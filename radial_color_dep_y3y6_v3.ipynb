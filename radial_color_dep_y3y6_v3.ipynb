{
 "cells": [
  {
   "cell_type": "code",
   "execution_count": 1,
   "id": "078ed472-0da3-4a08-89c3-40a20d7efa07",
   "metadata": {},
   "outputs": [],
   "source": [
    "%matplotlib inline\n",
    "import numpy as np\n",
    "import pandas as pd\n",
    "from matplotlib import pyplot as plt\n",
    "import matplotlib as mpl\n",
    "import fitsio\n",
    "import sys\n",
    "sys.path.append('scripts')\n",
    "from toFocal import toFocal, toFocalPixel, toFocalArcmin"
   ]
  },
  {
   "cell_type": "code",
   "execution_count": 2,
   "id": "f93be098-d088-411b-8424-356bc47cedb3",
   "metadata": {},
   "outputs": [],
   "source": [
    "# set some plotting defaults\n",
    "mpl.rc(('lines', 'axes') , linewidth=2)\n",
    "mpl.rc(('xtick', 'ytick'), labelsize=15)\n",
    "mpl.rc(('xtick.major', 'ytick.major'), width=2)\n",
    "mpl.rcParams['axes.labelsize'] = 22\n",
    "mpl.rcParams['font.family'] = 'serif'\n",
    "# mpl.rcParams['font.serif'] = ['Times New Roman'] + mpl.rcParams['font.serif']\n",
    "# mpl.rcParams[\"font.family\"] = \"Times New Roman\" \n",
    "mpl.rcParams['mathtext.fontset'] = 'stix'\n",
    "# mpl.rcParams['font.family'] = 'serif'\n",
    "mpl.rcParams['legend.fontsize'] = 15\n",
    "mpl.rcParams['font.size'] = 18\n",
    "mpl.rcParams[\"figure.facecolor\"] = 'white'\n",
    "mpl.rcParams[\"axes.facecolor\"] = 'white'"
   ]
  },
  {
   "cell_type": "code",
   "execution_count": 3,
   "id": "6989fedb-1739-418d-8309-1e68aa9c9d6c",
   "metadata": {},
   "outputs": [
    {
     "ename": "FileNotFoundError",
     "evalue": "[Errno 2] No such file or directory: '/global/cscratch1/sd/schutt20/y6a2_piff_testing/catalogs/y6a2_piff_v3_allres_v3_g_idx.txt'",
     "output_type": "error",
     "traceback": [
      "\u001b[0;31m---------------------------------------------------------------------------\u001b[0m",
      "\u001b[0;31mFileNotFoundError\u001b[0m                         Traceback (most recent call last)",
      "\u001b[0;32m/tmp/ipykernel_62986/3948012060.py\u001b[0m in \u001b[0;36m<module>\u001b[0;34m\u001b[0m\n\u001b[1;32m     12\u001b[0m         \u001b[0my3_idx_list\u001b[0m\u001b[0;34m.\u001b[0m\u001b[0mappend\u001b[0m\u001b[0;34m(\u001b[0m\u001b[0mint\u001b[0m\u001b[0;34m(\u001b[0m\u001b[0mline\u001b[0m\u001b[0;34m)\u001b[0m\u001b[0;34m)\u001b[0m\u001b[0;34m\u001b[0m\u001b[0;34m\u001b[0m\u001b[0m\n\u001b[1;32m     13\u001b[0m \u001b[0;34m\u001b[0m\u001b[0m\n\u001b[0;32m---> 14\u001b[0;31m \u001b[0;32mwith\u001b[0m \u001b[0mopen\u001b[0m\u001b[0;34m(\u001b[0m\u001b[0my6_idx_file\u001b[0m\u001b[0;34m,\u001b[0m \u001b[0;34m'r'\u001b[0m\u001b[0;34m)\u001b[0m \u001b[0;32mas\u001b[0m \u001b[0mf\u001b[0m\u001b[0;34m:\u001b[0m\u001b[0;34m\u001b[0m\u001b[0;34m\u001b[0m\u001b[0m\n\u001b[0m\u001b[1;32m     15\u001b[0m     \u001b[0;32mfor\u001b[0m \u001b[0mline\u001b[0m \u001b[0;32min\u001b[0m \u001b[0mf\u001b[0m\u001b[0;34m:\u001b[0m\u001b[0;34m\u001b[0m\u001b[0;34m\u001b[0m\u001b[0m\n\u001b[1;32m     16\u001b[0m         \u001b[0my6_idx_list\u001b[0m\u001b[0;34m.\u001b[0m\u001b[0mappend\u001b[0m\u001b[0;34m(\u001b[0m\u001b[0mint\u001b[0m\u001b[0;34m(\u001b[0m\u001b[0mline\u001b[0m\u001b[0;34m)\u001b[0m\u001b[0;34m)\u001b[0m\u001b[0;34m\u001b[0m\u001b[0;34m\u001b[0m\u001b[0m\n",
      "\u001b[0;31mFileNotFoundError\u001b[0m: [Errno 2] No such file or directory: '/global/cscratch1/sd/schutt20/y6a2_piff_testing/catalogs/y6a2_piff_v3_allres_v3_g_idx.txt'"
     ]
    }
   ],
   "source": [
    "#get band indices into each Y3 and Y6 catalog to minimize memory usage\n",
    "band = 'g'\n",
    "\n",
    "y3_idx_list = []\n",
    "y6_idx_list = []\n",
    "\n",
    "y3_idx_file = '/global/cscratch1/sd/schutt20/y6a2_piff_testing/catalogs/psf-y3a1-v29_x_y6gold20_%s_idx.txt'%band\n",
    "y6_idx_file = '/global/cscratch1/sd/schutt20/y6a2_piff_testing/catalogs/y6a2_piff_v3_allres_v3_collated_%s_idx.txt'%band\n",
    "\n",
    "with open(y3_idx_file, 'r') as f:\n",
    "    for line in f:\n",
    "        y3_idx_list.append(int(line))\n",
    "\n",
    "with open(y6_idx_file, 'r') as f:\n",
    "    for line in f:\n",
    "        y6_idx_list.append(int(line))\n",
    "\n",
    "y3_idx_arr = np.asarray(y3_idx_list)\n",
    "y6_idx_arr = np.asarray(y6_idx_list)"
   ]
  },
  {
   "cell_type": "code",
   "execution_count": 5,
   "id": "c81194e4-d757-4187-b95d-0789050d274d",
   "metadata": {},
   "outputs": [],
   "source": [
    "y3piff = '/global/cscratch1/sd/schutt20/y6a2_piff_testing/catalogs/psf-y3a1-v29-all_x_y6gold20_collated.fits'\n",
    "y6piff = '/global/cscratch1/sd/schutt20/y6a2_piff_testing/catalogs/y6a2_piff_v2_hsm_allres_Tcorrected_collated_2.fits'\n",
    "\n",
    "y3piff_band = fitsio.read(y3piff, rows=y3_idx_arr)\n",
    "y6piff_band = fitsio.read(y6piff, rows=y6_idx_arr)"
   ]
  },
  {
   "cell_type": "code",
   "execution_count": 6,
   "id": "db2a3b25-23ae-44d4-959c-29c501488a45",
   "metadata": {},
   "outputs": [
    {
     "name": "stdout",
     "output_type": "stream",
     "text": [
      "[('ra', '>f8'), ('dec', '>f8'), ('x', '>f8'), ('y', '>f8'), ('obs_e1', '>f8'), ('obs_e2', '>f8'), ('obs_T', '>f8'), ('piff_e1', '>f8'), ('piff_e2', '>f8'), ('piff_T', '>f8'), ('mag', '>f8'), ('fov_x', '>f8'), ('fov_y', '>f8'), ('exp', '>i4'), ('ccd', '>i2'), ('band', '<U1'), ('tiling', '>i2'), ('BDF_MAG_G_CORRECTED', '>f8'), ('BDF_MAG_R_CORRECTED', '>f8'), ('BDF_MAG_I_CORRECTED', '>f8'), ('BDF_MAG_Z_CORRECTED', '>f8'), ('GI_COLOR', '>f8'), ('IZ_COLOR', '>f8')]\n",
      "[('EXPNUM', '>i8'), ('CCDNUM', '>i2'), ('PSF_FWHM', '>f8'), ('BAND', '<U20'), ('RA', '>f8'), ('DEC', '>f8'), ('U', '>f8'), ('V', '>f8'), ('X', '>f8'), ('Y', '>f8'), ('FLUX', '>f8'), ('T_DATA', '>f8'), ('T_MODEL', '>f8'), ('G1_DATA', '>f8'), ('G1_MODEL', '>f8'), ('G2_DATA', '>f8'), ('G2_MODEL', '>f8'), ('STAR_FLAG', '>i4'), ('GI_COLOR', '>f8'), ('IZ_COLOR', '>f8')]\n",
      "7550610 27028965\n"
     ]
    }
   ],
   "source": [
    "print(y3piff_band.dtype)\n",
    "print(y6piff_band.dtype)\n",
    "print(len(y3piff_band), len(y6piff_band))"
   ]
  },
  {
   "cell_type": "code",
   "execution_count": 7,
   "id": "db05201d-7cd9-4a41-96ce-c1ba99b952b7",
   "metadata": {},
   "outputs": [],
   "source": [
    "if band == 'z':\n",
    "    color = 'IZ_COLOR'\n",
    "else:\n",
    "    color = 'GI_COLOR'\n",
    "\n",
    "y3_gi = y3piff_band[color]\n",
    "y6_gi = y6piff_band[color]"
   ]
  },
  {
   "cell_type": "code",
   "execution_count": 8,
   "id": "a735f582-b118-4a5a-b130-e4b5bab40a14",
   "metadata": {},
   "outputs": [],
   "source": [
    "def compute_color_quant_idxs(color_cat, q=(0.25, 0.75), cmin=0., cmax=3.5):\n",
    "    \n",
    "    mask = (color_cat > cmin) & (color_cat < cmax)\n",
    "    mcat = color_cat[mask]\n",
    "    quants = np.quantile(mcat, q)\n",
    "    # quant_75 = np.quantile(color_cat, 0.75)\n",
    "    color_bins = []\n",
    "    for i, quant in enumerate(quants):\n",
    "        if i == 0:\n",
    "            low = cmin\n",
    "        else:\n",
    "            low = hi\n",
    "        if i < (len(quants)-1):\n",
    "            hi = quant\n",
    "            color_bins.append((low, hi))\n",
    "\n",
    "        else:\n",
    "            hi = quant\n",
    "            color_bins.append((low, hi))\n",
    "            # add last bin\n",
    "            low = hi\n",
    "            hi = cmax\n",
    "            color_bins.append((low, hi))\n",
    "        \n",
    "    print(color_bins)\n",
    "\n",
    "    band_idxs = [(color_cat > color_bins[0][0]) & (color_cat < color_bins[0][1]),\n",
    "                 (color_cat > color_bins[1][0]) & (color_cat < color_bins[1][1]),\n",
    "                 (color_cat > color_bins[2][0]) & (color_cat < color_bins[2][1])]\n",
    "\n",
    "    return color_bins, band_idxs"
   ]
  },
  {
   "cell_type": "code",
   "execution_count": 9,
   "id": "5c58ec29-dfbd-4825-85e4-a7daa46446e7",
   "metadata": {},
   "outputs": [],
   "source": [
    "def compute_color_fixed_idxs(color_cat, bins):\n",
    "    color_bins = bins\n",
    "    print(color_bins)\n",
    "\n",
    "    band_idxs = [(color_cat > color_bins[0][0]) & (color_cat < color_bins[0][1]),\n",
    "           (color_cat > color_bins[1][0]) & (color_cat < color_bins[1][1]),\n",
    "           (color_cat > color_bins[2][0]) & (color_cat < color_bins[2][1])]\n",
    "\n",
    "    return color_bins, band_idxs"
   ]
  },
  {
   "cell_type": "code",
   "execution_count": 10,
   "id": "a71bcd52-c594-4c80-8766-2ea32d5f1f22",
   "metadata": {},
   "outputs": [
    {
     "name": "stdout",
     "output_type": "stream",
     "text": [
      "[(0.0, 0.5374016973354614), (0.5374016973354614, 1.7813623812009478), (1.7813623812009478, 3.5)]\n",
      "[(0.0, 0.6840976476669312), (0.6840976476669312, 2.22649884223938), (2.22649884223938, 3.5)]\n"
     ]
    }
   ],
   "source": [
    "y3_color_bins, y3_band_idxs = compute_color_quant_idxs(y3_gi)\n",
    "y6_color_bins, y6_band_idxs = compute_color_quant_idxs(y6_gi)"
   ]
  },
  {
   "cell_type": "code",
   "execution_count": 11,
   "id": "4e5c0ed4-02c9-40b7-ae12-b388f8859736",
   "metadata": {},
   "outputs": [],
   "source": [
    "y3_split_cats = [y3piff_band[y3_band_idxs[0]], y3piff_band[y3_band_idxs[1]], y3piff_band[y3_band_idxs[2]]]\n",
    "y6_split_cats = [y6piff_band[y6_band_idxs[0]], y6piff_band[y6_band_idxs[1]], y6piff_band[y6_band_idxs[2]]]"
   ]
  },
  {
   "cell_type": "code",
   "execution_count": 12,
   "id": "ec09a1f0-1eeb-4b93-9260-1a9b59bcbd3c",
   "metadata": {},
   "outputs": [
    {
     "name": "stdout",
     "output_type": "stream",
     "text": [
      "1717372\n",
      "3434746\n",
      "1717374\n",
      "6757241\n",
      "13514477\n",
      "6757241\n"
     ]
    }
   ],
   "source": [
    "for ccat in y3_split_cats:\n",
    "    print(len(ccat))\n",
    "\n",
    "for ccat in y6_split_cats:\n",
    "    print(len(ccat))"
   ]
  },
  {
   "cell_type": "code",
   "execution_count": 33,
   "id": "26d47771-a11e-48d9-b848-b2f6d1c2a8ab",
   "metadata": {},
   "outputs": [],
   "source": [
    "def bin_res_by_rad(uu, vv, dT, dTfrac, de1, de2, min_edge=0., max_edge=65.):\n",
    "\n",
    "    rad = np.sqrt(uu**2 + vv**2)\n",
    "    \n",
    "    # print(min_edge, max_edge)\n",
    "    bins = np.linspace(min_edge, max_edge, 30)\n",
    "    print('rad_bins = ',bins)\n",
    "\n",
    "    index = np.digitize(rad, bins)\n",
    "    #print('len(index) = ',len(index))\n",
    "    bin_de1 = [de1[index == i].mean() for i in range(1, len(bins))]\n",
    "    #print('bin_de1 = ',bin_de1)\n",
    "    bin_de2 = [de2[index == i].mean() for i in range(1, len(bins))]\n",
    "    #print('bin_de2 = ',bin_de2)\n",
    "    bin_dT = [dT[index == i].mean() for i in range(1, len(bins))]\n",
    "    print('mean bin_dT = ',np.mean(bin_dT))\n",
    "    bin_dTfrac = [dTfrac[index == i].mean() for i in range(1, len(bins))]\n",
    "    #print('bin_dTfrac = ',bin_dTfrac)\n",
    "    bin_de1_err = [ np.sqrt(de1[index == i].var() / len(de1[index == i]))\n",
    "                    for i in range(1, len(bins)) ]\n",
    "    #print('bin_de1_err = ',bin_de1_err)\n",
    "    bin_de2_err = [ np.sqrt(de2[index == i].var() / len(de2[index == i]))\n",
    "                    for i in range(1, len(bins)) ]\n",
    "    #print('bin_de2_err = ',bin_de2_err)\n",
    "    bin_dT_err = [ np.sqrt(dT[index == i].var() / len(dT[index == i]))\n",
    "                    for i in range(1, len(bins)) ]\n",
    "    print('mean bin_dT_err = ',np.mean(bin_dT_err))\n",
    "    bin_dTfrac_err = [ np.sqrt(dTfrac[index == i].var() / len(dTfrac[index == i]))\n",
    "                    for i in range(1, len(bins)) ]\n",
    "    #print('bin_dTfrac_err = ',bin_dTfrac_err)\n",
    "\n",
    "    # Fix up nans\n",
    "    for i in range(1,len(bins)):\n",
    "        if i not in index:\n",
    "            bin_de1[i-1] = 0.\n",
    "            bin_de2[i-1] = 0.\n",
    "            bin_dT[i-1] = 0.\n",
    "            bin_dTfrac[i-1] = 0.\n",
    "            bin_de1_err[i-1] = 0.\n",
    "            bin_de2_err[i-1] = 0.\n",
    "            bin_dT_err[i-1] = 0.\n",
    "            bin_dTfrac_err[i-1] = 0.\n",
    "    \n",
    "    return (bins,\n",
    "            bin_dT, bin_dT_err,\n",
    "            bin_dTfrac, bin_dTfrac_err,\n",
    "            bin_de1, bin_de1_err,\n",
    "            bin_de2, bin_de2_err)\n"
   ]
  },
  {
   "cell_type": "code",
   "execution_count": 35,
   "id": "6013d419-1dfd-4cf9-aa47-a123fd22e38e",
   "metadata": {},
   "outputs": [],
   "source": [
    "def plot_bin_res(min_edge, max_edge, bins, bin_res, bin_res_err, lims=(-0.0075, 0.0075),\n",
    "                 restype='T', year='Y6', color='r', title='', label=None, axes=None):\n",
    "    \n",
    "    if year == 'Y3':\n",
    "        alph = 0.6 # alpha value for plotting\n",
    "    if year == 'Y6':\n",
    "        alph = 1. # alpha value for plotting\n",
    "\n",
    "    if restype == 'T':\n",
    "        ylabel = r'$\\delta T \\quad [\\rm{arcsec}^2]$'\n",
    "    elif (restype == 'e1') | (restype == 'e2'):\n",
    "        ylabel = r'$\\delta %s$'%restype\n",
    "    elif restype == 'e1+e2':\n",
    "        ylabel = r'$\\delta e1 + \\delta e2$'\n",
    "    elif restype == 'e1+e2_sq':\n",
    "        ylabel = r'$\\sqrt{\\delta e1^2 + \\delta e2^2}$'\n",
    "\n",
    "    ax = axes\n",
    "    ax.set_ylim(lims)\n",
    "    ax.plot([min_edge,max_edge], [0,0], color='black')\n",
    "    bars = ax.errorbar(bins[:-1], bin_res, yerr=bin_res_err, fmt='o', label=label, alpha=alph, c=color)\n",
    "    #ax.axhline(y=0.003, linewidth=4, color='grey')\n",
    "    ax.legend([t_line], [r'$\\delta T$'])\n",
    "    ax.set_xlabel('Radius [arcmin]')\n",
    "    ax.set_ylabel(ylabel)\n",
    "\n",
    "    plt.tight_layout()"
   ]
  },
  {
   "cell_type": "code",
   "execution_count": 15,
   "id": "34377324-27a0-4ce3-aab7-455894d2f164",
   "metadata": {},
   "outputs": [],
   "source": [
    "#from https://joseph-long.com/writing/colorbars/\n",
    "def colorbar(mappable):\n",
    "    from mpl_toolkits.axes_grid1 import make_axes_locatable\n",
    "    import matplotlib.pyplot as plt\n",
    "    last_axes = plt.gca()\n",
    "    ax = mappable.axes\n",
    "    fig = ax.figure\n",
    "    divider = make_axes_locatable(ax)\n",
    "    cax = divider.append_axes(\"right\", size=\"5%\", pad=0.05)\n",
    "    cbar = fig.colorbar(mappable, cax=cax)\n",
    "    plt.sca(last_axes)\n",
    "    return cbar"
   ]
  },
  {
   "cell_type": "code",
   "execution_count": 21,
   "id": "28dd07c8-f52c-4e91-a554-f1720643cddf",
   "metadata": {},
   "outputs": [],
   "source": [
    "def calc_residuals(catalog, year):\n",
    "    if year == 'Y6':\n",
    "        xx = 'X'\n",
    "        yy = 'Y'\n",
    "        ccd = 'CCDNUM'\n",
    "        data_t = 'T_DATA'\n",
    "        model_t = 'T_MODEL'\n",
    "        data_e1 = 'G1_DATA'\n",
    "        model_e1 = 'G1_MODEL'\n",
    "        data_e2 = 'G2_DATA'\n",
    "        model_e2 = 'G2_MODEL'\n",
    "    elif year == 'Y3':\n",
    "        xx = 'x'\n",
    "        yy = 'y'\n",
    "        ccd = 'ccd'\n",
    "        data_t = 'obs_T'\n",
    "        model_t = 'piff_T'\n",
    "        data_e1 = 'obs_e1'\n",
    "        model_e1 = 'piff_e1'\n",
    "        data_e2 = 'obs_e2'\n",
    "        model_e2 = 'piff_e2'\n",
    "    else:\n",
    "        print('Invalid year string.')\n",
    "        pass\n",
    "    \n",
    "    dT = catalog[data_t] - catalog[model_t]\n",
    "    dTfrac = (catalog[data_t] - catalog[model_t]) / catalog[model_t]\n",
    "    de1 = catalog[data_e1] - catalog[model_e1]\n",
    "    de2 = catalog[data_e2] - catalog[model_e2]\n",
    "    \n",
    "    return dT, dTfrac, de1, de2"
   ]
  },
  {
   "cell_type": "code",
   "execution_count": 46,
   "id": "0f087f6a-14af-40b5-862c-a73f2d1520db",
   "metadata": {},
   "outputs": [
    {
     "name": "stdout",
     "output_type": "stream",
     "text": [
      "rad_bins =  [ 0.          2.24137931  4.48275862  6.72413793  8.96551724 11.20689655\n",
      " 13.44827586 15.68965517 17.93103448 20.17241379 22.4137931  24.65517241\n",
      " 26.89655172 29.13793103 31.37931034 33.62068966 35.86206897 38.10344828\n",
      " 40.34482759 42.5862069  44.82758621 47.06896552 49.31034483 51.55172414\n",
      " 53.79310345 56.03448276 58.27586207 60.51724138 62.75862069 65.        ]\n",
      "mean bin_dT =  0.008602926524857363\n",
      "mean bin_dT_err =  8.984597574256084e-05\n",
      "rad_bins =  [ 0.          2.24137931  4.48275862  6.72413793  8.96551724 11.20689655\n",
      " 13.44827586 15.68965517 17.93103448 20.17241379 22.4137931  24.65517241\n",
      " 26.89655172 29.13793103 31.37931034 33.62068966 35.86206897 38.10344828\n",
      " 40.34482759 42.5862069  44.82758621 47.06896552 49.31034483 51.55172414\n",
      " 53.79310345 56.03448276 58.27586207 60.51724138 62.75862069 65.        ]\n",
      "mean bin_dT =  -0.000659458464021224\n",
      "mean bin_dT_err =  5.948739396136926e-05\n",
      "rad_bins =  [ 0.          2.24137931  4.48275862  6.72413793  8.96551724 11.20689655\n",
      " 13.44827586 15.68965517 17.93103448 20.17241379 22.4137931  24.65517241\n",
      " 26.89655172 29.13793103 31.37931034 33.62068966 35.86206897 38.10344828\n",
      " 40.34482759 42.5862069  44.82758621 47.06896552 49.31034483 51.55172414\n",
      " 53.79310345 56.03448276 58.27586207 60.51724138 62.75862069 65.        ]\n",
      "mean bin_dT =  -0.010195082590587238\n",
      "mean bin_dT_err =  0.0001032986464083494\n",
      "rad_bins =  [ 0.          2.24137931  4.48275862  6.72413793  8.96551724 11.20689655\n",
      " 13.44827586 15.68965517 17.93103448 20.17241379 22.4137931  24.65517241\n",
      " 26.89655172 29.13793103 31.37931034 33.62068966 35.86206897 38.10344828\n",
      " 40.34482759 42.5862069  44.82758621 47.06896552 49.31034483 51.55172414\n",
      " 53.79310345 56.03448276 58.27586207 60.51724138 62.75862069 65.        ]\n",
      "mean bin_dT =  0.002354181235787998\n",
      "mean bin_dT_err =  5.823597432378343e-05\n",
      "rad_bins =  [ 0.          2.24137931  4.48275862  6.72413793  8.96551724 11.20689655\n",
      " 13.44827586 15.68965517 17.93103448 20.17241379 22.4137931  24.65517241\n",
      " 26.89655172 29.13793103 31.37931034 33.62068966 35.86206897 38.10344828\n",
      " 40.34482759 42.5862069  44.82758621 47.06896552 49.31034483 51.55172414\n",
      " 53.79310345 56.03448276 58.27586207 60.51724138 62.75862069 65.        ]\n",
      "mean bin_dT =  -0.00012727801330077824\n",
      "mean bin_dT_err =  4.874237072996231e-05\n",
      "rad_bins =  [ 0.          2.24137931  4.48275862  6.72413793  8.96551724 11.20689655\n",
      " 13.44827586 15.68965517 17.93103448 20.17241379 22.4137931  24.65517241\n",
      " 26.89655172 29.13793103 31.37931034 33.62068966 35.86206897 38.10344828\n",
      " 40.34482759 42.5862069  44.82758621 47.06896552 49.31034483 51.55172414\n",
      " 53.79310345 56.03448276 58.27586207 60.51724138 62.75862069 65.        ]\n",
      "mean bin_dT =  0.003600315810353351\n",
      "mean bin_dT_err =  8.843137808285873e-05\n"
     ]
    },
    {
     "data": {
      "image/png": "[encoded data removed]",
      "text/plain": [
       "<Figure size 1296x576 with 2 Axes>"
      ]
     },
     "metadata": {
      "needs_background": "light"
     },
     "output_type": "display_data"
    }
   ],
   "source": [
    "# plot all residuals by radial bins\n",
    "fig, axs = plt.subplots(1,2, figsize=(18,8))\n",
    "min_edge = 0.\n",
    "max_edge = 65.\n",
    "col_list = ['c','orange','r']\n",
    "axs[0].set_title('Y3')\n",
    "for i, ccat, color in zip(range(3), y3_split_cats, col_list):\n",
    "    uu, vv = toFocalArcmin(ccat['ccd'], ccat['x'], ccat['y'])\n",
    "    dT, dTfrac, de1, de2 = calc_residuals(ccat, 'Y3')\n",
    "    (bins, bin_dT, bin_dT_err, bin_dTfrac, bin_dTfrac_err,\n",
    "     bin_de1, bin_de1_err, bin_de2, bin_de2_err) = bin_res_by_rad(uu, vv, dT, dTfrac, de1, de2, \n",
    "                                                                  min_edge=min_edge, max_edge=max_edge)\n",
    "    plot_bin_res(min_edge, max_edge, bins, bin_dT, bin_dT_err, lims=(-0.02, 0.02),\n",
    "                 restype='T', year='Y3', color=color, label=i, axes=axs[0])\n",
    "\n",
    "axs[1].set_title('Y6')\n",
    "for i, ccat, color in zip(range(3), y6_split_cats, col_list):\n",
    "    uu, vv = toFocalArcmin(ccat['CCDNUM'], ccat['X'], ccat['Y'])\n",
    "    dT, dTfrac, de1, de2 = calc_residuals(ccat, 'Y6')\n",
    "    (bins, bin_dT, bin_dT_err, bin_dTfrac, bin_dTfrac_err,\n",
    "     bin_de1, bin_de1_err, bin_de2, bin_de2_err) = bin_res_by_rad(uu, vv, dT, dTfrac, de1, de2, \n",
    "                                                                  min_edge=min_edge, max_edge=max_edge)\n",
    "    plot_bin_res(min_edge, max_edge, bins, bin_dT, bin_dT_err, lims=(-0.02, 0.02),\n",
    "                 restype='T', year='Y6', color=color, label=i, axes=axs[1])"
   ]
  },
  {
   "cell_type": "code",
   "execution_count": 30,
   "id": "b5505a00-73de-45ff-a756-e3d94b6988ff",
   "metadata": {},
   "outputs": [
    {
     "data": {
      "text/plain": [
       "Text(0.5, 3.200000000000003, 'Radius [arcmin]')"
      ]
     },
     "execution_count": 30,
     "metadata": {},
     "output_type": "execute_result"
    }
   ],
   "source": [
    "axs[0].set_xlabel('Radius [arcmin]')\n",
    "axs[1].set_xlabel('Radius [arcmin]')"
   ]
  },
  {
   "cell_type": "code",
   "execution_count": 44,
   "id": "7c7a1cd3-46a9-490c-a608-c292f2cb448e",
   "metadata": {},
   "outputs": [
    {
     "name": "stdout",
     "output_type": "stream",
     "text": [
      "0\n",
      "1\n",
      "2\n"
     ]
    }
   ],
   "source": [
    "for i in range(3):\n",
    "    print(i)"
   ]
  },
  {
   "cell_type": "code",
   "execution_count": null,
   "id": "a8705fc8-8117-47f6-8de4-b23fb4185115",
   "metadata": {},
   "outputs": [],
   "source": []
  }
 ],
 "metadata": {
  "kernelspec": {
   "display_name": "piff-dev",
   "language": "python",
   "name": "piff-dev"
  },
  "language_info": {
   "codemirror_mode": {
    "name": "ipython",
    "version": 3
   },
   "file_extension": ".py",
   "mimetype": "text/x-python",
   "name": "python",
   "nbconvert_exporter": "python",
   "pygments_lexer": "ipython3",
   "version": "3.9.5"
  }
 },
 "nbformat": 4,
 "nbformat_minor": 5
}
