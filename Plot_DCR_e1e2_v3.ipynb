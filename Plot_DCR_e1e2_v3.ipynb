{
 "cells": [
  {
   "cell_type": "code",
   "execution_count": 1,
   "id": "3919298b-a09c-44ab-86cf-6d091a3abc4f",
   "metadata": {},
   "outputs": [],
   "source": [
    "import fitsio\n",
    "import numpy as np\n",
    "import json\n",
    "import matplotlib.pyplot as plt\n",
    "import matplotlib as mpl\n",
    "%matplotlib inline"
   ]
  },
  {
   "cell_type": "code",
   "execution_count": 2,
   "id": "50f6f954-a973-465a-8e69-19bf6188e57b",
   "metadata": {},
   "outputs": [],
   "source": [
    "# set some plotting defaults\n",
    "mpl.rc(('lines', 'axes') , linewidth=2)\n",
    "mpl.rc(('xtick', 'ytick'), labelsize=20)\n",
    "mpl.rc(('xtick.major', 'ytick.major'), width=2)\n",
    "mpl.rcParams['font.size'] = 25\n",
    "# mpl.rcParams['font.style'] = 'normal'\n",
    "mpl.rcParams['font.family'] = 'serif'\n",
    "mpl.rcParams['mathtext.fontset'] = 'stix'\n",
    "mpl.rcParams['legend.fontsize'] = 18\n",
    "mpl.rcParams[\"figure.facecolor\"] = 'white'\n",
    "mpl.rcParams[\"axes.facecolor\"] = 'white'"
   ]
  },
  {
   "cell_type": "markdown",
   "id": "306fc661-31e5-46f9-b0be-b85eca879502",
   "metadata": {},
   "source": [
    "## Y6A2 PIFF V3 FULL WIDE FIELD SURVEY"
   ]
  },
  {
   "cell_type": "code",
   "execution_count": 3,
   "id": "549fb15c-0e3d-4742-9691-6545506513f4",
   "metadata": {},
   "outputs": [],
   "source": [
    "mjdcat = '/global/cscratch1/sd/schutt20/y6a2_piff_testing/catalogs/y6a2_piff_v3_allres_v3_collated.fits'\n",
    "f1 = fitsio.FITS(mjdcat)\n",
    "\n",
    "ccat = f1[1]['EXPNUM', 'MJD_OBS', 'RA', 'DEC', 'BAND',\n",
    "             'T_DATA', 'T_MODEL', 'G1_DATA', 'G1_MODEL', 'G2_DATA', 'G2_MODEL',\n",
    "             'GI_COLOR', 'IZ_COLOR'][:]\n",
    "# #get only exposures for v3_test01 test sample\n",
    "# expcat = fitsio.FITS('/global/cscratch1/sd/schutt20/y6a2_piff_testing/catalogs/y6a2_piff_v3_test_01_allres_v3_collated.fits')\n",
    "# expcat = expcat[1]['EXPNUM'][:]\n",
    "\n",
    "# mask = np.isin(ccat['EXPNUM'], expcat)\n",
    "# ccat = ccat[mask]"
   ]
  },
  {
   "cell_type": "code",
   "execution_count": 4,
   "id": "d070d49a-5945-4c74-902a-4d3b8bb1031e",
   "metadata": {},
   "outputs": [
    {
     "data": {
      "text/plain": [
       "138045977"
      ]
     },
     "execution_count": 4,
     "metadata": {},
     "output_type": "execute_result"
    }
   ],
   "source": [
    "nentries = len(ccat); nentries"
   ]
  },
  {
   "cell_type": "code",
   "execution_count": 5,
   "id": "e98aaaff-45a4-4811-bfa4-00cf5aa8a564",
   "metadata": {},
   "outputs": [],
   "source": [
    "# rng = np.random.default_rng(1234)\n",
    "# nstar = 4000000\n",
    "# idx_sample = rng.integers(low=0, high=nentries, size=nstar) #high is exclusive"
   ]
  },
  {
   "cell_type": "code",
   "execution_count": 6,
   "id": "dd6ce584-e2d1-4ac4-994a-abffac206a5e",
   "metadata": {
    "tags": []
   },
   "outputs": [
    {
     "name": "stdout",
     "output_type": "stream",
     "text": [
      "[(807019, 'g', 58481.09225078, 61.52369451, -66.00788149, 0.91901307, 0.87944229, -0.046243  , -0.03583334,  0.01931679,  0.02497484, 0.28152546,  0.04719682)\n",
      " (807019, 'g', 58481.09225078, 61.63099   , -66.10993886, 0.91068077, 0.87621761, -0.05655005, -0.04051275,  0.06619817,  0.01836033, 0.69694501,  0.08431444)\n",
      " (807019, 'g', 58481.09225078, 61.71356093, -66.01522673, 0.92564065, 0.87591705, -0.04378767, -0.03825339,  0.03313481,  0.02624141, 0.10661495, -0.06674734)\n",
      " (807019, 'g', 58481.09225078, 61.83342286, -66.05336801, 0.82409769, 0.86624385,  0.00345548, -0.04075758, -0.01810212,  0.02726981, 0.4071686 , -0.01011113)\n",
      " (807019, 'g', 58481.09225078, 61.83555485, -65.97938776, 0.85145619, 0.8371754 ,  0.02163371, -0.03183969,  0.0562744 ,  0.02118428, 2.58770561,  0.47992218)\n",
      " (807019, 'g', 58481.09225078, 61.88797943, -65.97061054, 0.81547818, 0.87348955, -0.04026652, -0.0314533 ,  0.03243859,  0.02372816, 0.33836466, -0.00127835)\n",
      " (807019, 'g', 58481.09225078, 61.74710685, -65.97687144, 0.84672667, 0.87390396, -0.08835451, -0.03229816,  0.02056282,  0.02340669, 0.36020529,  0.03418754)\n",
      " (806767, 'r', 58480.18126706, 59.34855924, -66.01072165, 0.85306821, 0.85269095, -0.00779344, -0.03350054, -0.0114715 , -0.01550744, 0.4927721 ,  0.00663135)\n",
      " (806767, 'r', 58480.18126706, 59.71433119, -66.07044142, 0.78797289, 0.85347164, -0.00597299, -0.03011984,  0.02913508, -0.00124125, 0.95530212,  0.11959669)\n",
      " (806767, 'r', 58480.18126706, 59.89975794, -66.09390443, 0.78054215, 0.85030153, -0.02288741, -0.03150569, -0.01457885,  0.00159673, 1.02058935,  0.1509334 )]\n"
     ]
    }
   ],
   "source": [
    "#grab a limited sample of the full Piff output catalog based on random draw above\n",
    "# ccat = fitsio.read(mjdcat, columns=['BAND', 'MJD_OBS',\n",
    "#                                             'RA', 'DEC',\n",
    "#                                             'T_DATA', 'T_MODEL',\n",
    "#                                             'G1_DATA', 'G1_MODEL',\n",
    "#                                             'G2_DATA', 'G2_MODEL',\n",
    "#                                             'GI_COLOR', 'IZ_COLOR'])\n",
    "# # cat = f1[1][:]\n",
    "# # cat['RA'][cat['RA'] > 180.] -= 360.\n",
    "print(ccat[:10])"
   ]
  },
  {
   "cell_type": "code",
   "execution_count": 7,
   "id": "a1559d97-8fc4-4983-85bb-17d84522967a",
   "metadata": {},
   "outputs": [],
   "source": [
    "#set labels for plot types / filename labels\n",
    "band = 'g'\n",
    "ver=1\n",
    "plt_type = 'e'"
   ]
  },
  {
   "cell_type": "code",
   "execution_count": 8,
   "id": "2f8ed849-df28-46b9-9c7a-907dab879ab0",
   "metadata": {},
   "outputs": [],
   "source": [
    "if band == 'z':\n",
    "    cmax = 0.7\n",
    "    color = 'IZ_COLOR'\n",
    "else:\n",
    "    cmax = 3.5\n",
    "    color = 'GI_COLOR'\n",
    "\n",
    "band_cat = ccat[ccat['BAND'] == band]\n",
    "\n",
    "#compute color-split catalogs by 25-75 quantile splits\n",
    "quant_25 = np.quantile(band_cat[color], 0.25)\n",
    "quant_75 = np.quantile(band_cat[color], 0.75)\n",
    "\n",
    "band_cbins = [(0., quant_25), (quant_25, quant_75), (quant_75, cmax)]\n",
    "\n",
    "band_idxs = [(band_cat[color] > band_cbins[0][0]) & (band_cat[color] < band_cbins[0][1]),\n",
    "           (band_cat[color] > band_cbins[1][0]) & (band_cat[color] < band_cbins[1][1]),\n",
    "           (band_cat[color] > band_cbins[2][0]) & (band_cat[color] < band_cbins[2][1])]\n",
    "\n",
    "band_cats = [band_cat[band_idxs[0]], band_cat[band_idxs[1]], band_cat[band_idxs[2]]]"
   ]
  },
  {
   "cell_type": "code",
   "execution_count": 9,
   "id": "e4198fa2-9e95-442e-856a-9943da95ae58",
   "metadata": {},
   "outputs": [
    {
     "name": "stdout",
     "output_type": "stream",
     "text": [
      "0.6277241110801697 2.1217522025108337\n",
      "[6473916, 12947826, 6473917]\n"
     ]
    }
   ],
   "source": [
    "print(band_cbins[1][0], band_cbins[1][1])\n",
    "print([len(cat) for cat in band_cats])"
   ]
  },
  {
   "cell_type": "code",
   "execution_count": 10,
   "id": "e776297c-196c-4f04-aa4d-0f1131d71120",
   "metadata": {},
   "outputs": [
    {
     "name": "stdout",
     "output_type": "stream",
     "text": [
      "138045977\n",
      "[(807019, 'g', 58481.09225078, 61.52369451, -66.00788149, 0.91901307, 0.87944229, -0.046243  , -0.03583334,  0.01931679,  0.02497484, 0.28152546,  0.04719682)\n",
      " (807019, 'g', 58481.09225078, 61.63099   , -66.10993886, 0.91068077, 0.87621761, -0.05655005, -0.04051275,  0.06619817,  0.01836033, 0.69694501,  0.08431444)\n",
      " (807019, 'g', 58481.09225078, 61.71356093, -66.01522673, 0.92564065, 0.87591705, -0.04378767, -0.03825339,  0.03313481,  0.02624141, 0.10661495, -0.06674734)\n",
      " (807019, 'g', 58481.09225078, 61.83342286, -66.05336801, 0.82409769, 0.86624385,  0.00345548, -0.04075758, -0.01810212,  0.02726981, 0.4071686 , -0.01011113)\n",
      " (807019, 'g', 58481.09225078, 61.83555485, -65.97938776, 0.85145619, 0.8371754 ,  0.02163371, -0.03183969,  0.0562744 ,  0.02118428, 2.58770561,  0.47992218)\n",
      " (807019, 'g', 58481.09225078, 61.88797943, -65.97061054, 0.81547818, 0.87348955, -0.04026652, -0.0314533 ,  0.03243859,  0.02372816, 0.33836466, -0.00127835)\n",
      " (807019, 'g', 58481.09225078, 61.74710685, -65.97687144, 0.84672667, 0.87390396, -0.08835451, -0.03229816,  0.02056282,  0.02340669, 0.36020529,  0.03418754)\n",
      " (806767, 'r', 58480.18126706, 59.34855924, -66.01072165, 0.85306821, 0.85269095, -0.00779344, -0.03350054, -0.0114715 , -0.01550744, 0.4927721 ,  0.00663135)\n",
      " (806767, 'r', 58480.18126706, 59.71433119, -66.07044142, 0.78797289, 0.85347164, -0.00597299, -0.03011984,  0.02913508, -0.00124125, 0.95530212,  0.11959669)\n",
      " (806767, 'r', 58480.18126706, 59.89975794, -66.09390443, 0.78054215, 0.85030153, -0.02288741, -0.03150569, -0.01457885,  0.00159673, 1.02058935,  0.1509334 )]\n"
     ]
    }
   ],
   "source": [
    "print(len(ccat))\n",
    "print(ccat[:10])"
   ]
  },
  {
   "cell_type": "markdown",
   "id": "61839ab9-0247-459a-9543-97caacff6db7",
   "metadata": {},
   "source": [
    "### Calculate local sidereal times"
   ]
  },
  {
   "cell_type": "code",
   "execution_count": 11,
   "id": "eaa8d3d9-0b62-48bf-b47e-8623fe784a98",
   "metadata": {},
   "outputs": [],
   "source": [
    "import astropy.units as units\n",
    "from astropy.time import Time\n",
    "from astropy.coordinates import EarthLocation\n",
    "import coord\n",
    "\n",
    "# Observatory location\n",
    "lat = -30.1690\n",
    "long = -70.8063\n",
    "elev = 2200.0\n",
    "\n",
    "loc = EarthLocation(lat=lat*units.degree,\n",
    "                    lon=long*units.degree,\n",
    "                    height=elev*units.m)"
   ]
  },
  {
   "cell_type": "code",
   "execution_count": 12,
   "id": "ca6f28a0-c021-4424-bad8-104bd98bd769",
   "metadata": {},
   "outputs": [],
   "source": [
    "def compute_sidereal_time(loc, mjd_cat):\n",
    "    t = Time(mjd_cat, format='mjd', location=loc)\n",
    "    lst = t.sidereal_time('apparent')\n",
    "    lst_arr = lst.to_value(units.degree)\n",
    "    \n",
    "    return lst_arr"
   ]
  },
  {
   "cell_type": "code",
   "execution_count": 13,
   "id": "b4c66a2f-dd90-477a-9ea3-0672129b52e4",
   "metadata": {},
   "outputs": [
    {
     "ename": "KeyboardInterrupt",
     "evalue": "",
     "output_type": "error",
     "traceback": [
      "\u001b[0;31m---------------------------------------------------------------------------\u001b[0m",
      "\u001b[0;31mKeyboardInterrupt\u001b[0m                         Traceback (most recent call last)",
      "\u001b[0;32m/tmp/ipykernel_12953/2028560514.py\u001b[0m in \u001b[0;36m<module>\u001b[0;34m\u001b[0m\n\u001b[1;32m      1\u001b[0m \u001b[0mlst_arrs\u001b[0m \u001b[0;34m=\u001b[0m \u001b[0;34m[\u001b[0m\u001b[0;34m]\u001b[0m\u001b[0;34m\u001b[0m\u001b[0;34m\u001b[0m\u001b[0m\n\u001b[1;32m      2\u001b[0m \u001b[0;32mfor\u001b[0m \u001b[0mcat\u001b[0m \u001b[0;32min\u001b[0m \u001b[0mband_cats\u001b[0m\u001b[0;34m:\u001b[0m\u001b[0;34m\u001b[0m\u001b[0;34m\u001b[0m\u001b[0m\n\u001b[0;32m----> 3\u001b[0;31m     \u001b[0mlst_arrs\u001b[0m\u001b[0;34m.\u001b[0m\u001b[0mappend\u001b[0m\u001b[0;34m(\u001b[0m\u001b[0mcompute_sidereal_time\u001b[0m\u001b[0;34m(\u001b[0m\u001b[0mloc\u001b[0m\u001b[0;34m,\u001b[0m \u001b[0mcat\u001b[0m\u001b[0;34m[\u001b[0m\u001b[0;34m'MJD_OBS'\u001b[0m\u001b[0;34m]\u001b[0m\u001b[0;34m)\u001b[0m\u001b[0;34m)\u001b[0m\u001b[0;34m\u001b[0m\u001b[0;34m\u001b[0m\u001b[0m\n\u001b[0m",
      "\u001b[0;32m/tmp/ipykernel_12953/3799919584.py\u001b[0m in \u001b[0;36mcompute_sidereal_time\u001b[0;34m(loc, mjd_cat)\u001b[0m\n\u001b[1;32m      1\u001b[0m \u001b[0;32mdef\u001b[0m \u001b[0mcompute_sidereal_time\u001b[0m\u001b[0;34m(\u001b[0m\u001b[0mloc\u001b[0m\u001b[0;34m,\u001b[0m \u001b[0mmjd_cat\u001b[0m\u001b[0;34m)\u001b[0m\u001b[0;34m:\u001b[0m\u001b[0;34m\u001b[0m\u001b[0;34m\u001b[0m\u001b[0m\n\u001b[1;32m      2\u001b[0m     \u001b[0mt\u001b[0m \u001b[0;34m=\u001b[0m \u001b[0mTime\u001b[0m\u001b[0;34m(\u001b[0m\u001b[0mmjd_cat\u001b[0m\u001b[0;34m,\u001b[0m \u001b[0mformat\u001b[0m\u001b[0;34m=\u001b[0m\u001b[0;34m'mjd'\u001b[0m\u001b[0;34m,\u001b[0m \u001b[0mlocation\u001b[0m\u001b[0;34m=\u001b[0m\u001b[0mloc\u001b[0m\u001b[0;34m)\u001b[0m\u001b[0;34m\u001b[0m\u001b[0;34m\u001b[0m\u001b[0m\n\u001b[0;32m----> 3\u001b[0;31m     \u001b[0mlst\u001b[0m \u001b[0;34m=\u001b[0m \u001b[0mt\u001b[0m\u001b[0;34m.\u001b[0m\u001b[0msidereal_time\u001b[0m\u001b[0;34m(\u001b[0m\u001b[0;34m'apparent'\u001b[0m\u001b[0;34m)\u001b[0m\u001b[0;34m\u001b[0m\u001b[0;34m\u001b[0m\u001b[0m\n\u001b[0m\u001b[1;32m      4\u001b[0m     \u001b[0mlst_arr\u001b[0m \u001b[0;34m=\u001b[0m \u001b[0mlst\u001b[0m\u001b[0;34m.\u001b[0m\u001b[0mto_value\u001b[0m\u001b[0;34m(\u001b[0m\u001b[0munits\u001b[0m\u001b[0;34m.\u001b[0m\u001b[0mdegree\u001b[0m\u001b[0;34m)\u001b[0m\u001b[0;34m\u001b[0m\u001b[0;34m\u001b[0m\u001b[0m\n\u001b[1;32m      5\u001b[0m \u001b[0;34m\u001b[0m\u001b[0m\n",
      "\u001b[0;32m~/miniconda3/envs/piff-dev/lib/python3.9/site-packages/astropy/time/core.py\u001b[0m in \u001b[0;36msidereal_time\u001b[0;34m(self, kind, longitude, model)\u001b[0m\n\u001b[1;32m   1832\u001b[0m                                   wrap_angle=180. * u.degree)\n\u001b[1;32m   1833\u001b[0m \u001b[0;34m\u001b[0m\u001b[0m\n\u001b[0;32m-> 1834\u001b[0;31m         \u001b[0mgst\u001b[0m \u001b[0;34m=\u001b[0m \u001b[0mself\u001b[0m\u001b[0;34m.\u001b[0m\u001b[0m_erfa_sidereal_time\u001b[0m\u001b[0;34m(\u001b[0m\u001b[0mavailable_models\u001b[0m\u001b[0;34m[\u001b[0m\u001b[0mmodel\u001b[0m\u001b[0;34m.\u001b[0m\u001b[0mupper\u001b[0m\u001b[0;34m(\u001b[0m\u001b[0;34m)\u001b[0m\u001b[0;34m]\u001b[0m\u001b[0;34m)\u001b[0m\u001b[0;34m\u001b[0m\u001b[0;34m\u001b[0m\u001b[0m\n\u001b[0m\u001b[1;32m   1835\u001b[0m         \u001b[0;32mreturn\u001b[0m \u001b[0mLongitude\u001b[0m\u001b[0;34m(\u001b[0m\u001b[0mgst\u001b[0m \u001b[0;34m+\u001b[0m \u001b[0mlongitude\u001b[0m\u001b[0;34m,\u001b[0m \u001b[0mu\u001b[0m\u001b[0;34m.\u001b[0m\u001b[0mhourangle\u001b[0m\u001b[0;34m)\u001b[0m\u001b[0;34m\u001b[0m\u001b[0;34m\u001b[0m\u001b[0m\n\u001b[1;32m   1836\u001b[0m \u001b[0;34m\u001b[0m\u001b[0m\n",
      "\u001b[0;32m~/miniconda3/envs/piff-dev/lib/python3.9/site-packages/astropy/time/core.py\u001b[0m in \u001b[0;36m_erfa_sidereal_time\u001b[0;34m(self, model)\u001b[0m\n\u001b[1;32m   1850\u001b[0m                            for jd_part in ('jd1', 'jd2_filled')]\n\u001b[1;32m   1851\u001b[0m \u001b[0;34m\u001b[0m\u001b[0m\n\u001b[0;32m-> 1852\u001b[0;31m         \u001b[0msidereal_time\u001b[0m \u001b[0;34m=\u001b[0m \u001b[0merfa_function\u001b[0m\u001b[0;34m(\u001b[0m\u001b[0;34m*\u001b[0m\u001b[0merfa_parameters\u001b[0m\u001b[0;34m)\u001b[0m\u001b[0;34m\u001b[0m\u001b[0;34m\u001b[0m\u001b[0m\n\u001b[0m\u001b[1;32m   1853\u001b[0m \u001b[0;34m\u001b[0m\u001b[0m\n\u001b[1;32m   1854\u001b[0m         \u001b[0;32mif\u001b[0m \u001b[0mself\u001b[0m\u001b[0;34m.\u001b[0m\u001b[0mmasked\u001b[0m\u001b[0;34m:\u001b[0m\u001b[0;34m\u001b[0m\u001b[0;34m\u001b[0m\u001b[0m\n",
      "\u001b[0;32m~/miniconda3/envs/piff-dev/lib/python3.9/site-packages/erfa/core.py\u001b[0m in \u001b[0;36mgst06a\u001b[0;34m(uta, utb, tta, ttb)\u001b[0m\n\u001b[1;32m  13610\u001b[0m \u001b[0;34m\u001b[0m\u001b[0m\n\u001b[1;32m  13611\u001b[0m     \"\"\"\n\u001b[0;32m> 13612\u001b[0;31m     \u001b[0mc_retval\u001b[0m \u001b[0;34m=\u001b[0m \u001b[0mufunc\u001b[0m\u001b[0;34m.\u001b[0m\u001b[0mgst06a\u001b[0m\u001b[0;34m(\u001b[0m\u001b[0muta\u001b[0m\u001b[0;34m,\u001b[0m \u001b[0mutb\u001b[0m\u001b[0;34m,\u001b[0m \u001b[0mtta\u001b[0m\u001b[0;34m,\u001b[0m \u001b[0mttb\u001b[0m\u001b[0;34m)\u001b[0m\u001b[0;34m\u001b[0m\u001b[0;34m\u001b[0m\u001b[0m\n\u001b[0m\u001b[1;32m  13613\u001b[0m     \u001b[0;32mreturn\u001b[0m \u001b[0mc_retval\u001b[0m\u001b[0;34m\u001b[0m\u001b[0;34m\u001b[0m\u001b[0m\n\u001b[1;32m  13614\u001b[0m \u001b[0;34m\u001b[0m\u001b[0m\n",
      "\u001b[0;31mKeyboardInterrupt\u001b[0m: "
     ]
    }
   ],
   "source": [
    "lst_arrs = []\n",
    "for cat in band_cats:\n",
    "    lst_arrs.append(compute_sidereal_time(loc, cat['MJD_OBS']))"
   ]
  },
  {
   "cell_type": "code",
   "execution_count": null,
   "id": "4e21ad98-3ec4-4e8e-92d4-6bc43640855f",
   "metadata": {
    "tags": []
   },
   "outputs": [],
   "source": [
    "lst_arrs"
   ]
  },
  {
   "cell_type": "markdown",
   "id": "439b2baa-2f97-4a42-be30-887d542ece22",
   "metadata": {},
   "source": [
    "### Compute zenith and parallactic angles"
   ]
  },
  {
   "cell_type": "code",
   "execution_count": null,
   "id": "74657923-f140-41c8-a39a-2f99cd654440",
   "metadata": {},
   "outputs": [],
   "source": [
    "def compute_zenith_and_par_angles(lst, ra, dec):\n",
    "        \"\"\"\n",
    "        Compute the zenith angle for a given ra/dec\n",
    "        Parameters\n",
    "        ----------\n",
    "        lst : `float`\n",
    "           Local sidereal time (degrees)\n",
    "        ra : `float`\n",
    "           RA in degrees\n",
    "        dec : `float`\n",
    "           Dec in degrees\n",
    "        Returns\n",
    "        -------\n",
    "        zenith_angle : `float`\n",
    "           Zenith angle in radians.\n",
    "        parallactic_angle : `float`, optional\n",
    "           Parallactic angle in radians.\n",
    "        \"\"\"\n",
    "        c_ra = ra*coord.degrees\n",
    "        c_dec = dec*coord.degrees\n",
    "        c_ha = (lst - ra)*coord.degrees\n",
    "        c_lat = lat*coord.degrees\n",
    "        c_zenith = coord.CelestialCoord(c_ha + c_ra, c_lat)\n",
    "        c_pointing = coord.CelestialCoord(c_ra, c_dec)\n",
    "        zenith_angle = c_pointing.distanceTo(c_zenith).rad\n",
    "\n",
    "        c_NCP = coord.CelestialCoord(0.0*coord.degrees, 90.0*coord.degrees)\n",
    "        parallactic_angle = c_pointing.angleBetween(c_NCP, c_zenith).rad\n",
    "\n",
    "        return zenith_angle, parallactic_angle"
   ]
  },
  {
   "cell_type": "code",
   "execution_count": null,
   "id": "c95a9750-542c-40b0-825e-85669f0ccef0",
   "metadata": {},
   "outputs": [],
   "source": [
    "zenith_list = []\n",
    "paral_list = []\n",
    "for cat, lst_arr in zip(band_cats, lst_arrs):\n",
    "    zenith = np.zeros(len(cat))\n",
    "    par_angle = np.zeros(len(cat))\n",
    "    for i, lst, ra, dec in zip(range(len(cat)), lst_arr, cat['RA'], cat['DEC']):\n",
    "        # print(i, lst, ra, dec)\n",
    "        zenith[i], par_angle[i] = compute_zenith_and_par_angles(lst, ra, dec)\n",
    "    zenith_list.append(zenith)\n",
    "    paral_list.append(par_angle)"
   ]
  },
  {
   "cell_type": "code",
   "execution_count": null,
   "id": "3e54f7c3-bd68-4798-b707-a98ee9488735",
   "metadata": {},
   "outputs": [],
   "source": [
    "dcr_e1_list = []\n",
    "dcr_e2_list = []\n",
    "for zenith, par_angle in zip(zenith_list, paral_list):\n",
    "    # dcr_dra = np.tan(zenith)*np.sin(par_angle)\n",
    "    # dcr_ddec = np.tan(zenith)*np.cos(par_angle)\n",
    "    dcr_e1 = (np.tan(zenith)**2.)*np.cos(2*par_angle)\n",
    "    dcr_e2 = (np.tan(zenith)**2.)*np.sin(2*par_angle)\n",
    "    dcr_e1_list.append(dcr_e1)\n",
    "    dcr_e2_list.append(dcr_e2)"
   ]
  },
  {
   "cell_type": "markdown",
   "id": "cca1ca57-ac9b-411f-8d02-6a194971e24a",
   "metadata": {
    "tags": []
   },
   "source": [
    "### Bin data"
   ]
  },
  {
   "cell_type": "code",
   "execution_count": null,
   "id": "2e10e26c-62d0-4d74-b994-19858fcc6068",
   "metadata": {},
   "outputs": [],
   "source": [
    "def bin_by_angle(dcr_angle, de, nbins=10, xmin=-0.8333, xmax=0.15):\n",
    "    \n",
    "    if xmin is None:\n",
    "        xmin = min(dcr_angle)\n",
    "    if xmax is None:\n",
    "        xmax = max(dcr_angle)\n",
    "\n",
    "    theta_bins = np.linspace(xmin, xmax, nbins)\n",
    "    bin_width = theta_bins[1] - theta_bins[0]\n",
    "    bin_centers = theta_bins[:-1] + bin_width/2\n",
    "    print('theta_bins = ',theta_bins)\n",
    "    print('bin_centers = ',bin_centers)\n",
    "\n",
    "    index = np.digitize(dcr_angle, theta_bins)\n",
    "    bin_de = [de[index == i].mean() for i in range(1, len(theta_bins))]\n",
    "    print('bin_de = ',bin_de)\n",
    "    bin_de_err = [ np.sqrt(de[index == i].var() / len(de[index == i]))\n",
    "                    for i in range(1, len(theta_bins)) ]\n",
    "    print('bin_de_err = ',bin_de_err)\n",
    "\n",
    "    # Fix up nans\n",
    "    for i in range(1,len(theta_bins)):\n",
    "        if i not in index:\n",
    "            bin_de[i-1] = 0.\n",
    "            bin_de_err[i-1] = 0.\n",
    "    \n",
    "    return list(bin_centers), bin_de, bin_de_err"
   ]
  },
  {
   "cell_type": "code",
   "execution_count": null,
   "id": "56a7c5e4-c5f5-4bf7-a1c3-3c95f1bc3a01",
   "metadata": {},
   "outputs": [],
   "source": [
    "results = [] #nested list of 3 lists (color groups)\n",
    "            #of 2 lists (e1, e2) of 3 lists (theta_bins, bin_de, bin_de_err)\n",
    "if plt_type == 'e':\n",
    "    for i, cat, dcr_e1, dcr_e2 in zip(range(3), band_cats, dcr_e1_list, dcr_e2_list):\n",
    "        e1_th_bins, bin_de1, bin_de1_err = bin_by_angle(dcr_e1, cat['G1_DATA'] - cat['G1_MODEL'])\n",
    "        e2_th_bins, bin_de2, bin_de2_err = bin_by_angle(dcr_e2, cat['G2_DATA'] - cat['G2_MODEL'])\n",
    "        results.append([[e1_th_bins, bin_de1, bin_de1_err],\n",
    "                        [e2_th_bins, bin_de2, bin_de2_err]])\n",
    "elif plt_type == 'T':\n",
    "    for i, cat, dcr_e1, dcr_e2 in zip(range(3), band_cats, dcr_e1_list, dcr_e2_list):\n",
    "        e1_th_bins, bin_de1, bin_de1_err = bin_by_angle(dcr_e1, cat['T_DATA'] - cat['T_MODEL'])\n",
    "        e2_th_bins, bin_de2, bin_de2_err = bin_by_angle(dcr_e2, cat['T_DATA'] - cat['T_MODEL'])\n",
    "        results.append([[e1_th_bins, bin_de1, bin_de1_err],\n",
    "                        [e2_th_bins, bin_de2, bin_de2_err]])"
   ]
  },
  {
   "cell_type": "code",
   "execution_count": null,
   "id": "9a342a55-cbf8-4ca6-a1a0-9f251693bb84",
   "metadata": {},
   "outputs": [],
   "source": [
    "print(results)\n",
    "print(results[2][1]) #2nd color group, e1, all bin data"
   ]
  },
  {
   "cell_type": "code",
   "execution_count": null,
   "id": "b76bcd82-c334-486d-a019-21ad9a27a779",
   "metadata": {},
   "outputs": [],
   "source": [
    "import json\n",
    "tag = 'piff_v3_allres_v3_%s_%s_v%i'%(plt_type,band,ver)\n",
    "data_file = 'dcr_output/y6a2_dcr_%s.json'%(tag)\n",
    "with open(data_file,'w') as fp:\n",
    "    json.dump([results], fp)"
   ]
  },
  {
   "cell_type": "markdown",
   "id": "37b31f9b-18f8-41da-894d-400a5c0e0a5b",
   "metadata": {},
   "source": [
    "### Plot results"
   ]
  },
  {
   "cell_type": "code",
   "execution_count": null,
   "id": "497ae226-c5b6-4b5d-a7d9-13640c17da8f",
   "metadata": {},
   "outputs": [],
   "source": [
    "with open(data_file,'r') as f:\n",
    "    results = json.load(f)"
   ]
  },
  {
   "cell_type": "code",
   "execution_count": null,
   "id": "986fca92-507c-4736-844f-317f0fa73ca5",
   "metadata": {},
   "outputs": [],
   "source": [
    "def plot_e_dcr(theta_bins, bin_de, bin_de_err=None, ax=None, ymin=-0.0012, ymax=0.0012,\n",
    "             etype='1', label=None, color='k'):\n",
    "    ax.set_ylim(ymin, ymax)\n",
    "    #ax.plot([cmin,cmax], [0,0], color='black')\n",
    "    #ax.plot([min_mused,min_mused],[-1,1], color='Grey')\n",
    "    #ax.fill( [min_mag,min_mag,min_mused,min_mused], [-1,1,1,-1], fill=True, color='Grey',alpha=0.3)\n",
    "    t_line = ax.errorbar(theta_bins, bin_de, yerr=bin_de_err,\n",
    "                         fmt='o', label=label, color=color)\n",
    "    \n",
    "    lin_fit = np.polynomial.Polynomial.fit(theta_bins, bin_de, w=1./np.asarray(bin_de_err)**2, deg=1)\n",
    "    coeffs = lin_fit.coef\n",
    "    x_pts = np.array([min(theta_bins), max(theta_bins)])\n",
    "    ax.plot(x_pts, coeffs[0] + coeffs[1]*x_pts, color=color)\n",
    "    #ax.axhline(y=0.003, linewidth=4, color='grey')\n",
    "    # ax.legend([t_line], [r'$\\delta T$'])\n",
    "    ax.legend()\n",
    "    if etype == '1':\n",
    "        xlabel = r'DCR$_1$'\n",
    "        ylabel = r'$e1_{\\rm{data}} - e1_{\\rm{model}}$'\n",
    "    elif etype == '2':\n",
    "        xlabel = r'DCR$_2$'\n",
    "        ylabel = r'$e2_{\\rm{data}} - e2_{\\rm{model}}$'\n",
    "    ax.set_xlabel(xlabel)\n",
    "    ax.set_ylabel(ylabel)\n",
    "    # ax.set_xlabel(color)\n",
    "    plt.tight_layout()"
   ]
  },
  {
   "cell_type": "code",
   "execution_count": null,
   "id": "de79b6e0-39bf-4fdd-8543-8fc1a191ff61",
   "metadata": {},
   "outputs": [],
   "source": [
    "def plot_T_dcr(theta_bins, bin_dT, bin_dT_err=None, ax=None, ymin=-0.0012, ymax=0.0012,\n",
    "               etype='1', label=None, color='k'):\n",
    "    ax.set_ylim(ymin, ymax)\n",
    "    #ax.plot([cmin,cmax], [0,0], color='black')\n",
    "    #ax.plot([min_mused,min_mused],[-1,1], color='Grey')\n",
    "    #ax.fill( [min_mag,min_mag,min_mused,min_mused], [-1,1,1,-1], fill=True, color='Grey',alpha=0.3)\n",
    "    t_line = ax.errorbar(theta_bins, bin_dT, yerr=bin_dT_err,\n",
    "                         fmt='o', label=label, color=color)\n",
    "    \n",
    "    lin_fit = np.polynomial.Polynomial.fit(theta_bins, bin_dT, w=1./np.asarray(bin_dT_err)**2, deg=1)\n",
    "    coeffs = lin_fit.coef\n",
    "    x_pts = np.array([min(theta_bins), max(theta_bins)])\n",
    "    ax.plot(x_pts, coeffs[0] + coeffs[1]*x_pts, color=color)\n",
    "    #ax.axhline(y=0.003, linewidth=4, color='grey')\n",
    "    # ax.legend([t_line], [r'$\\delta T$'])\n",
    "    ax.legend()\n",
    "    if etype == '1':\n",
    "        xlabel = r'DCR$_1$'\n",
    "        ylabel = r'$T_{\\rm{data}} - T_{\\rm{model}} \\quad [\\rm{arcsec}^2]$'\n",
    "    elif etype == '2':\n",
    "        xlabel = r'DCR$_2$'\n",
    "        ylabel = r'$T_{\\rm{data}} - T_{\\rm{model}} \\quad [\\rm{arcsec}^2]$'\n",
    "    ax.set_xlabel(xlabel)\n",
    "    ax.set_ylabel(ylabel, {'fontname':'serif'})\n",
    "    # ax.set_xlabel(color)\n",
    "    plt.tight_layout()"
   ]
  },
  {
   "cell_type": "code",
   "execution_count": null,
   "id": "3e0b6c3a-ea45-4bad-8257-d448588abe9a",
   "metadata": {},
   "outputs": [],
   "source": [
    "# fig, axs = plt.subplots(2,1, figsize=(10,12))\n",
    "# for cat, dcr_e1, dcr_e2 in zip(band_cats, dcr_e1_list, dcr_e2_list):\n",
    "#     ax = axs[0]\n",
    "#     ax.scatter(dcr_e1, cat['G1_DATA'] - cat['G1_MODEL'], s=1, alpha=0.3)\n",
    "#     ax.set_ylim(-0.05, 0.05)\n",
    "\n",
    "#     ax = axs[1]\n",
    "#     ax.scatter(dcr_e2, cat['G2_DATA'] - cat['G2_MODEL'], s=1, alpha=0.3)\n",
    "#     ax.set_ylim(-0.05, 0.05)\n",
    "\n",
    "# plt.savefig('dcr_output/y6a2_dcr_%s_1Mstar_scatter.pdf'%band)\n",
    "\n",
    "fig, axs = plt.subplots(2,1, figsize=(15,12))\n",
    "\n",
    "colors = ['c', 'orange', 'r']\n",
    "# for i, cat, dcr_e1, dcr_e2 in zip(range(3), band_cats, dcr_e1_list, dcr_e2_list):\n",
    "#     plot_e_dcr(dcr_e1, cat['G1_DATA'] - cat['G1_MODEL'], ax=axs[0],\n",
    "#                  label=band_cbins[i], color=colors[i])\n",
    "#     plot_e_dcr(dcr_e2, cat['G2_DATA'] - cat['G2_MODEL'], ax=axs[1],\n",
    "#                  label=band_cbins[i], color=colors[i], etype='2')\n",
    "for col in range(3):\n",
    "    for enum in range(2):\n",
    "        plot_e_dcr(*results[0][col][enum], ax=axs[enum], label='%.2f < g-i < %.2f'%(band_cbins[col]),\n",
    "                 color=colors[col], etype=str(enum+1), ymin=-3e-3, ymax=3e-3)"
   ]
  },
  {
   "cell_type": "code",
   "execution_count": null,
   "id": "63f52a4d-70a6-4144-ae78-e6394e087fa4",
   "metadata": {},
   "outputs": [],
   "source": [
    "plt.savefig('dcr_output/y6a2_dcr_%s.pdf'%(tag))"
   ]
  },
  {
   "cell_type": "code",
   "execution_count": null,
   "id": "a0329eda-cfaf-47c2-a9fb-42acd91d88a0",
   "metadata": {},
   "outputs": [],
   "source": []
  }
 ],
 "metadata": {
  "kernelspec": {
   "display_name": "piff-dev",
   "language": "python",
   "name": "piff-dev"
  },
  "language_info": {
   "codemirror_mode": {
    "name": "ipython",
    "version": 3
   },
   "file_extension": ".py",
   "mimetype": "text/x-python",
   "name": "python",
   "nbconvert_exporter": "python",
   "pygments_lexer": "ipython3",
   "version": "3.9.5"
  }
 },
 "nbformat": 4,
 "nbformat_minor": 5
}
